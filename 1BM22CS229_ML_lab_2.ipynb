{
  "nbformat": 4,
  "nbformat_minor": 0,
  "metadata": {
    "colab": {
      "provenance": []
    },
    "kernelspec": {
      "name": "python3",
      "display_name": "Python 3"
    },
    "language_info": {
      "name": "python"
    }
  },
  "cells": [
    {
      "cell_type": "code",
      "execution_count": 1,
      "metadata": {
        "colab": {
          "base_uri": "https://localhost:8080/",
          "height": 0
        },
        "id": "lPuJhp8AUuop",
        "outputId": "9d8f3249-7de3-48ae-da3c-013e0c83efe0"
      },
      "outputs": [
        {
          "output_type": "stream",
          "name": "stdout",
          "text": [
            "{'id': {1: 'no',\n",
            "        2: 'no',\n",
            "        3: 'yes',\n",
            "        4: 'yes',\n",
            "        5: 'yes',\n",
            "        6: 'no',\n",
            "        7: 'yes',\n",
            "        8: 'no',\n",
            "        9: 'yes',\n",
            "        10: 'yes',\n",
            "        11: 'yes',\n",
            "        12: 'yes',\n",
            "        13: 'yes',\n",
            "        14: 'no'}}\n"
          ]
        }
      ],
      "source": [
        "import numpy as np\n",
        "import pandas as pd\n",
        "import math\n",
        "\n",
        "# Load dataset from CSV file\n",
        "file_path = \"/content/sample_data/weather.csv\"\n",
        "df = pd.read_csv(file_path)\n",
        "\n",
        "# Function to calculate entropy\n",
        "def entropy(target_col):\n",
        "    values, counts = np.unique(target_col, return_counts=True)\n",
        "    entropy = -sum((counts[i] / sum(counts)) * math.log2(counts[i] / sum(counts)) for i in range(len(values)))\n",
        "    return entropy\n",
        "\n",
        "# Function to calculate information gain\n",
        "def info_gain(data, feature, target):\n",
        "    total_entropy = entropy(data[target])\n",
        "    values, counts = np.unique(data[feature], return_counts=True)\n",
        "    weighted_entropy = sum((counts[i] / sum(counts)) * entropy(data[data[feature] == values[i]][target]) for i in range(len(values)))\n",
        "    return total_entropy - weighted_entropy\n",
        "\n",
        "# Function to build ID3 decision tree\n",
        "def id3(data, features, target):\n",
        "    if len(np.unique(data[target])) == 1:\n",
        "        return np.unique(data[target])[0]\n",
        "    if len(features) == 0:\n",
        "        return data[target].mode()[0]\n",
        "    best_feature = max(features, key=lambda f: info_gain(data, f, target))\n",
        "    tree = {best_feature: {}}\n",
        "    for value in np.unique(data[best_feature]):\n",
        "        subset = data[data[best_feature] == value]\n",
        "        subtree = id3(subset, [f for f in features if f != best_feature], target)\n",
        "        tree[best_feature][value] = subtree\n",
        "    return tree\n",
        "\n",
        "# Running the ID3 algorithm\n",
        "features = list(df.columns[:-1])\n",
        "target = df.columns[-1]  # Assuming last column is the target variable\n",
        "decision_tree = id3(df, features, target)\n",
        "\n",
        "import pprint\n",
        "pprint.pprint(decision_tree)\n"
      ]
    },
    {
      "cell_type": "code",
      "source": [
        "import pandas as pd\n",
        "import numpy as np\n",
        "from sklearn.impute import SimpleImputer\n",
        "from sklearn.preprocessing import OrdinalEncoder, OneHotEncoder, MinMaxScaler, StandardScaler\n",
        "import matplotlib.pyplot as plt\n",
        "\n",
        "# Load dataset (update the file path accordingly)\n",
        "file_path = input(\"Enter the dataset file path: \")\n",
        "df = pd.read_csv(file_path)\n",
        "\n",
        "# 1. Data Cleaning\n",
        "print(\"Checking for missing values:\\n\", df.isnull().sum())\n",
        "\n",
        "# Handling missing values\n",
        "imputer_mean = SimpleImputer(strategy=\"mean\")\n",
        "imputer_median = SimpleImputer(strategy=\"median\")\n",
        "imputer_mode = SimpleImputer(strategy=\"most_frequent\")\n",
        "\n",
        "# Impute missing values and update the DataFrame\n",
        "df[df.select_dtypes(include=[np.number]).columns] = imputer_mean.fit_transform(df.select_dtypes(include=[np.number])) # Correctly assign the imputed values back to the DataFrame\n",
        "\n",
        "\n",
        "# 2. Handling Categorical Data\n",
        "cat_columns = df.select_dtypes(include=['object']).columns\n",
        "ordinal_encoder = OrdinalEncoder()\n",
        "onehot_encoder = OneHotEncoder(sparse=False, handle_unknown='ignore')\n",
        "\n",
        "if len(cat_columns) > 0:\n",
        "    df[cat_columns] = ordinal_encoder.fit_transform(df[cat_columns])\n",
        "    onehot_encoded = onehot_encoder.fit_transform(df[cat_columns])\n",
        "    onehot_df = pd.DataFrame(onehot_encoded, columns=onehot_encoder.get_feature_names_out(cat_columns))\n",
        "    df = df.drop(columns=cat_columns)\n",
        "    df = pd.concat([df, onehot_df], axis=1)\n",
        "\n",
        "# 3. Detecting Outliers\n",
        "# Boxplot\n",
        "plt.boxplot(df.select_dtypes(include=[np.number]), vert=False)\n",
        "plt.title(\"Boxplot for Outlier Detection\")\n",
        "plt.show()\n",
        "\n",
        "# Z-score method\n",
        "outliers = []\n",
        "def detect_outliers_zscore(data):\n",
        "    thres = 3\n",
        "    mean = np.mean(data)\n",
        "    std = np.std(data)\n",
        "    return [i for i in data if abs((i - mean) / std) > thres]\n",
        "\n",
        "for col in df.select_dtypes(include=[np.number]):\n",
        "    print(f\"Outliers in {col}: \", detect_outliers_zscore(df[col]))\n",
        "\n",
        "# 4. Feature Scaling\n",
        "scaler_minmax = MinMaxScaler()\n",
        "scaler_standard = StandardScaler()\n",
        "\n",
        "df[df.select_dtypes(include=[np.number]).columns] = scaler_standard.fit_transform(df.select_dtypes(include=[np.number]))\n",
        "\n",
        "# 5. Save Processed Data\n",
        "df.to_csv(\"processed_dataset.csv\", index=False)\n",
        "print(\"Data preprocessing completed and saved as 'processed_dataset.csv'\")\n"
      ],
      "metadata": {
        "colab": {
          "base_uri": "https://localhost:8080/",
          "height": 419
        },
        "id": "ZdiLhbzmabE7",
        "outputId": "ae02ca35-462c-4526-8626-0507747f0c03"
      },
      "execution_count": 5,
      "outputs": [
        {
          "output_type": "stream",
          "name": "stdout",
          "text": [
            "Enter the dataset file path: /content/sample_data/california_housing_train.csv\n",
            "Checking for missing values:\n",
            " longitude             0\n",
            "latitude              0\n",
            "housing_median_age    0\n",
            "total_rooms           0\n",
            "total_bedrooms        0\n",
            "population            0\n",
            "households            0\n",
            "median_income         0\n",
            "median_house_value    0\n",
            "dtype: int64\n"
          ]
        },
        {
          "output_type": "error",
          "ename": "TypeError",
          "evalue": "OneHotEncoder.__init__() got an unexpected keyword argument 'sparse'",
          "traceback": [
            "\u001b[0;31m---------------------------------------------------------------------------\u001b[0m",
            "\u001b[0;31mTypeError\u001b[0m                                 Traceback (most recent call last)",
            "\u001b[0;32m<ipython-input-5-0173f3fc7390>\u001b[0m in \u001b[0;36m<cell line: 0>\u001b[0;34m()\u001b[0m\n\u001b[1;32m     24\u001b[0m \u001b[0mcat_columns\u001b[0m \u001b[0;34m=\u001b[0m \u001b[0mdf\u001b[0m\u001b[0;34m.\u001b[0m\u001b[0mselect_dtypes\u001b[0m\u001b[0;34m(\u001b[0m\u001b[0minclude\u001b[0m\u001b[0;34m=\u001b[0m\u001b[0;34m[\u001b[0m\u001b[0;34m'object'\u001b[0m\u001b[0;34m]\u001b[0m\u001b[0;34m)\u001b[0m\u001b[0;34m.\u001b[0m\u001b[0mcolumns\u001b[0m\u001b[0;34m\u001b[0m\u001b[0;34m\u001b[0m\u001b[0m\n\u001b[1;32m     25\u001b[0m \u001b[0mordinal_encoder\u001b[0m \u001b[0;34m=\u001b[0m \u001b[0mOrdinalEncoder\u001b[0m\u001b[0;34m(\u001b[0m\u001b[0;34m)\u001b[0m\u001b[0;34m\u001b[0m\u001b[0;34m\u001b[0m\u001b[0m\n\u001b[0;32m---> 26\u001b[0;31m \u001b[0monehot_encoder\u001b[0m \u001b[0;34m=\u001b[0m \u001b[0mOneHotEncoder\u001b[0m\u001b[0;34m(\u001b[0m\u001b[0msparse\u001b[0m\u001b[0;34m=\u001b[0m\u001b[0;32mFalse\u001b[0m\u001b[0;34m,\u001b[0m \u001b[0mhandle_unknown\u001b[0m\u001b[0;34m=\u001b[0m\u001b[0;34m'ignore'\u001b[0m\u001b[0;34m)\u001b[0m\u001b[0;34m\u001b[0m\u001b[0;34m\u001b[0m\u001b[0m\n\u001b[0m\u001b[1;32m     27\u001b[0m \u001b[0;34m\u001b[0m\u001b[0m\n\u001b[1;32m     28\u001b[0m \u001b[0;32mif\u001b[0m \u001b[0mlen\u001b[0m\u001b[0;34m(\u001b[0m\u001b[0mcat_columns\u001b[0m\u001b[0;34m)\u001b[0m \u001b[0;34m>\u001b[0m \u001b[0;36m0\u001b[0m\u001b[0;34m:\u001b[0m\u001b[0;34m\u001b[0m\u001b[0;34m\u001b[0m\u001b[0m\n",
            "\u001b[0;31mTypeError\u001b[0m: OneHotEncoder.__init__() got an unexpected keyword argument 'sparse'"
          ]
        }
      ]
    },
    {
      "cell_type": "code",
      "source": [
        "import pandas as pd\n",
        "import numpy as np\n",
        "from sklearn.impute import SimpleImputer\n",
        "from sklearn.preprocessing import OrdinalEncoder, OneHotEncoder, MinMaxScaler, StandardScaler\n",
        "import matplotlib.pyplot as plt\n",
        "\n",
        "# Load dataset (update the file path accordingly)\n",
        "file_path = input(\"Enter the dataset file path: \")\n",
        "df = pd.read_csv(file_path)\n",
        "\n",
        "# 1. Data Cleaning\n",
        "print(\"Checking for missing values:\\n\", df.isnull().sum())\n",
        "\n",
        "# Handling missing values\n",
        "imputer_mean = SimpleImputer(strategy=\"mean\")\n",
        "imputer_median = SimpleImputer(strategy=\"median\")\n",
        "imputer_mode = SimpleImputer(strategy=\"most_frequent\")\n",
        "\n",
        "# Impute missing values and update the DataFrame\n",
        "df[df.select_dtypes(include=[np.number]).columns] = imputer_mean.fit_transform(df.select_dtypes(include=[np.number])) # Correctly assign the imputed values back to the DataFrame\n",
        "\n",
        "\n",
        "# 2. Handling Categorical Data\n",
        "cat_columns = df.select_dtypes(include=['object']).columns\n",
        "ordinal_encoder = OrdinalEncoder()\n",
        "onehot_encoder = OneHotEncoder(sparse_output=False, handle_unknown='ignore')\n",
        "\n",
        "if len(cat_columns) > 0:\n",
        "    df[cat_columns] = ordinal_encoder.fit_transform(df[cat_columns])\n",
        "    onehot_encoded = onehot_encoder.fit_transform(df[cat_columns])\n",
        "    onehot_df = pd.DataFrame(onehot_encoded, columns=onehot_encoder.get_feature_names_out(cat_columns))\n",
        "    df = df.drop(columns=cat_columns)\n",
        "    df = pd.concat([df, onehot_df], axis=1)\n",
        "\n",
        "# 3. Detecting Outliers\n",
        "# Boxplot\n",
        "plt.boxplot(df.select_dtypes(include=[np.number]), vert=False)\n",
        "plt.title(\"Boxplot for Outlier Detection\")\n",
        "plt.show()\n",
        "\n",
        "# Z-score method\n",
        "outliers = []\n",
        "def detect_outliers_zscore(data):\n",
        "    thres = 3\n",
        "    mean = np.mean(data)\n",
        "    std = np.std(data)\n",
        "    return [i for i in data if abs((i - mean) / std) > thres]\n",
        "\n",
        "for col in df.select_dtypes(include=[np.number]):\n",
        "    print(f\"Outliers in {col}: \", detect_outliers_zscore(df[col]))\n",
        "\n",
        "# 4. Feature Scaling\n",
        "scaler_minmax = MinMaxScaler()\n",
        "scaler_standard = StandardScaler()\n",
        "\n",
        "df[df.select_dtypes(include=[np.number]).columns] = scaler_standard.fit_transform(df.select_dtypes(include=[np.number]))\n",
        "\n",
        "# 5. Save Processed Data\n",
        "df.to_csv(\"processed_dataset.csv\", index=False)\n",
        "print(\"Data preprocessing completed and saved as 'processed_dataset.csv'\")\n"
      ],
      "metadata": {
        "colab": {
          "base_uri": "https://localhost:8080/",
          "height": 854
        },
        "id": "uU9X3L-jbKfP",
        "outputId": "b86692ef-6e4a-47e5-9113-95affc82875b"
      },
      "execution_count": 6,
      "outputs": [
        {
          "output_type": "stream",
          "name": "stdout",
          "text": [
            "Enter the dataset file path: /content/sample_data/california_housing_train.csv\n",
            "Checking for missing values:\n",
            " longitude             0\n",
            "latitude              0\n",
            "housing_median_age    0\n",
            "total_rooms           0\n",
            "total_bedrooms        0\n",
            "population            0\n",
            "households            0\n",
            "median_income         0\n",
            "median_house_value    0\n",
            "dtype: int64\n"
          ]
        },
        {
          "output_type": "display_data",
          "data": {
            "text/plain": [
              "<Figure size 640x480 with 1 Axes>"
            ],
            "image/png": "[encoded data removed]"
          },
          "metadata": {}
        },
        {
          "output_type": "stream",
          "name": "stdout",
          "text": [
            "Outliers in longitude:  []\n",
            "Outliers in latitude:  []\n",
            "Outliers in housing_median_age:  []\n",
            "Outliers in total_rooms:  [10377.0, 9444.0, 12991.0, 19107.0, 12327.0, 12557.0, 17579.0, 11836.0, 12509.0, 11115.0, 11659.0, 16921.0, 10105.0, 9425.0, 10227.0, 10077.0, 9374.0, 9975.0, 12480.0, 10886.0, 12342.0, 13559.0, 14934.0, 10997.0, 12517.0, 11391.0, 9724.0, 16450.0, 10352.0, 9601.0, 16148.0, 10968.0, 11544.0, 15401.0, 9992.0, 13814.0, 9518.0, 9911.0, 17466.0, 14944.0, 13703.0, 10665.0, 15502.0, 30401.0, 9302.0, 15029.0, 9285.0, 20391.0, 15695.0, 19001.0, 21060.0, 9419.0, 10394.0, 18356.0, 10002.0, 12526.0, 16884.0, 9911.0, 13195.0, 11775.0, 13724.0, 13096.0, 9812.0, 9859.0, 26322.0, 20908.0, 18767.0, 16010.0, 14960.0, 20944.0, 13245.0, 12837.0, 10923.0, 11827.0, 17286.0, 11810.0, 9269.0, 16533.0, 9286.0, 10804.0, 10145.0, 12156.0, 11587.0, 10072.0, 25135.0, 14281.0, 9966.0, 9759.0, 12870.0, 10565.0, 12106.0, 10395.0, 10235.0, 11965.0, 13562.0, 17978.0, 17577.0, 11818.0, 16431.0, 9467.0, 20263.0, 10223.0, 15809.0, 18956.0, 13556.0, 10534.0, 10175.0, 10008.0, 9653.0, 17715.0, 11250.0, 10856.0, 13290.0, 9755.0, 37937.0, 22128.0, 16759.0, 9662.0, 10263.0, 32054.0, 9729.0, 9792.0, 18690.0, 10484.0, 10535.0, 18448.0, 9197.0, 11026.0, 9446.0, 17527.0, 21533.0, 10281.0, 9255.0, 17820.0, 27700.0, 19059.0, 9565.0, 11989.0, 14058.0, 9893.0, 9947.0, 16414.0, 9610.0, 16042.0, 10621.0, 10655.0, 9849.0, 12139.0, 10264.0, 23386.0, 9761.0, 10356.0, 20377.0, 9882.0, 10239.0, 12317.0, 11008.0, 11275.0, 10626.0, 14348.0, 14556.0, 9944.0, 9659.0, 10731.0, 13038.0, 9975.0, 11016.0, 9259.0, 13133.0, 11016.0, 17339.0, 9528.0, 11308.0, 10445.0, 11353.0, 9728.0, 17591.0, 21113.0, 10806.0, 14891.0, 13406.0, 25957.0, 9902.0, 9430.0, 9320.0, 10267.0, 11154.0, 15341.0, 17377.0, 15348.0, 21086.0, 17313.0, 9657.0, 9716.0, 11853.0, 9512.0, 14912.0, 10860.0, 9664.0, 16544.0, 14275.0, 23866.0, 16704.0, 16222.0, 30405.0, 15572.0, 11668.0, 15990.0, 25187.0, 10018.0, 15207.0, 10618.0, 9807.0, 12707.0, 10822.0, 9351.0, 11609.0, 9503.0, 9280.0, 15201.0, 11403.0, 10425.0, 10862.0, 10098.0, 13670.0, 10463.0, 17738.0, 9613.0, 9885.0, 13315.0, 9601.0, 9374.0, 12360.0, 12259.0, 11442.0, 9205.0, 13553.0, 9534.0, 13796.0, 9774.0, 20214.0, 21897.0, 14414.0, 16239.0, 14418.0, 10035.0, 20982.0, 12355.0, 10211.0, 10505.0, 12197.0, 15309.0, 16679.0, 9483.0, 9899.0, 10613.0, 9371.0, 19234.0, 9217.0, 12139.0, 12070.0, 15018.0, 10236.0, 10509.0, 17032.0, 14701.0, 32627.0, 9831.0, 11181.0, 13182.0, 12980.0, 9621.0, 10053.0, 14631.0, 11444.0, 9540.0, 28258.0, 10869.0, 11336.0, 14652.0, 10687.0, 9789.0, 11768.0, 10093.0, 16199.0, 14917.0, 12713.0, 10648.0, 14316.0, 14014.0, 10191.0, 9576.0, 9963.0, 11294.0, 11709.0, 12842.0, 18392.0, 14125.0, 15654.0, 18634.0, 15259.0, 13714.0, 14034.0, 10252.0, 11999.0, 12902.0, 10774.0, 9493.0, 9614.0, 9531.0, 11872.0, 10839.0, 9772.0]\n",
            "Outliers in total_bedrooms:  [1901.0, 2331.0, 1997.0, 2224.0, 2555.0, 3923.0, 2000.0, 3098.0, 1859.0, 3479.0, 2405.0, 2460.0, 2257.0, 2007.0, 2837.0, 2481.0, 2020.0, 1875.0, 1882.0, 2634.0, 2315.0, 2186.0, 1839.0, 1946.0, 1985.0, 2127.0, 2630.0, 2292.0, 2656.0, 2479.0, 2205.0, 2506.0, 3093.0, 2833.0, 2007.0, 2401.0, 3474.0, 1979.0, 3280.0, 2888.0, 1881.0, 2035.0, 2114.0, 1866.0, 2628.0, 3336.0, 2490.0, 2352.0, 2576.0, 2613.0, 4957.0, 1816.0, 2279.0, 3245.0, 1952.0, 2248.0, 2688.0, 3366.0, 2537.0, 2495.0, 2865.0, 1946.0, 2696.0, 2031.0, 2269.0, 2208.0, 1914.0, 4072.0, 3933.0, 3032.0, 2726.0, 2988.0, 2111.0, 3753.0, 2212.0, 1842.0, 2041.0, 2445.0, 4952.0, 2181.0, 2549.0, 1832.0, 2306.0, 1864.0, 2043.0, 4819.0, 2511.0, 1816.0, 2315.0, 1913.0, 2238.0, 2057.0, 3217.0, 2819.0, 2640.0, 3915.0, 2485.0, 4095.0, 2035.0, 2181.0, 2000.0, 2370.0, 1893.0, 2278.0, 2062.0, 5471.0, 2174.0, 3522.0, 2274.0, 1864.0, 5290.0, 2862.0, 2474.0, 1978.0, 2751.0, 3078.0, 2812.0, 4179.0, 3079.0, 2289.0, 2185.0, 2486.0, 2283.0, 2276.0, 2919.0, 2005.0, 2602.0, 2873.0, 1821.0, 4171.0, 4335.0, 1847.0, 1960.0, 1892.0, 2823.0, 2953.0, 1877.0, 1822.0, 2145.0, 1856.0, 1944.0, 2077.0, 3179.0, 2293.0, 1997.0, 1980.0, 2961.0, 2610.0, 2530.0, 2158.0, 2055.0, 1985.0, 3335.0, 1984.0, 2679.0, 3638.0, 2793.0, 2154.0, 3680.0, 3170.0, 2022.0, 2866.0, 2007.0, 1827.0, 2437.0, 2075.0, 3039.0, 1978.0, 2331.0, 2211.0, 1866.0, 2604.0, 4386.0, 1963.0, 3984.0, 2574.0, 2193.0, 2038.0, 4798.0, 2814.0, 1820.0, 2138.0, 2473.0, 2717.0, 1872.0, 1995.0, 2527.0, 2139.0, 4457.0, 1976.0, 1826.0, 1994.0, 2366.0, 3945.0, 1858.0, 3224.0, 1849.0, 1869.0, 2387.0, 2691.0, 2355.0, 2560.0, 4183.0, 2206.0, 2474.0, 4407.0, 2704.0, 2309.0, 4093.0, 2222.0, 1827.0, 2611.0, 3521.0, 2924.0, 2685.0, 1994.0, 2139.0, 1901.0, 2141.0, 2418.0, 2131.0, 2121.0, 2401.0, 2453.0, 1831.0, 3114.0, 1871.0, 2424.0, 1906.0, 1847.0, 2690.0, 2474.0, 1819.0, 2372.0, 3559.0, 3513.0, 2979.0, 3358.0, 2282.0, 1856.0, 3392.0, 3630.0, 1882.0, 1992.0, 1995.0, 2617.0, 2996.0, 3457.0, 1913.0, 2617.0, 2011.0, 2485.0, 1980.0, 4492.0, 2640.0, 2220.0, 3008.0, 1857.0, 1878.0, 2186.0, 2546.0, 2210.0, 6445.0, 1957.0, 1921.0, 1895.0, 2074.0, 2568.0, 2124.0, 3298.0, 3864.0, 2226.0, 2826.0, 1847.0, 1823.0, 2166.0, 2552.0, 2098.0, 1893.0, 2993.0, 1910.0, 2708.0, 2558.0, 1818.0, 2045.0, 2861.0, 1882.0, 2031.0, 2009.0, 3618.0, 2048.0, 2782.0, 2344.0, 2394.0, 1943.0, 2885.0, 1914.0, 2477.0, 2275.0, 2408.0, 2302.0, 3020.0, 2509.0, 2747.0, 1812.0, 2595.0, 2249.0, 2118.0, 1902.0, 1935.0, 2123.0, 2300.0]\n",
            "Outliers in population:  [5032.0, 5525.0, 6274.0, 6835.0, 5102.0, 5030.0, 6990.0, 6945.0, 5060.0, 6389.0, 7178.0, 5247.0, 7985.0, 5176.0, 6159.0, 6296.0, 7302.0, 6583.0, 5094.0, 5370.0, 7014.0, 7644.0, 6600.0, 4917.0, 7417.0, 13251.0, 5613.0, 7132.0, 5006.0, 6080.0, 5410.0, 8980.0, 9623.0, 5146.0, 8437.0, 5439.0, 6133.0, 9509.0, 5155.0, 5145.0, 6763.0, 6686.0, 5860.0, 6780.0, 5595.0, 4885.0, 9360.0, 9690.0, 5650.0, 8805.0, 7139.0, 6666.0, 8738.0, 5495.0, 6640.0, 9851.0, 6716.0, 4916.0, 7588.0, 6852.0, 5221.0, 5020.0, 5804.0, 5913.0, 35682.0, 7540.0, 5008.0, 5820.0, 5690.0, 5810.0, 6295.0, 5271.0, 7600.0, 7305.0, 7766.0, 4976.0, 5499.0, 8222.0, 9716.0, 5205.0, 7363.0, 10323.0, 5669.0, 5110.0, 5718.0, 7665.0, 4952.0, 6474.0, 6931.0, 16122.0, 10450.0, 7249.0, 6163.0, 15507.0, 9427.0, 7775.0, 5407.0, 4911.0, 8380.0, 9671.0, 4926.0, 6083.0, 4944.0, 5756.0, 8686.0, 15037.0, 10988.0, 5477.0, 5085.0, 6652.0, 8997.0, 5325.0, 7228.0, 5516.0, 5116.0, 5278.0, 5587.0, 5254.0, 5014.0, 8907.0, 7732.0, 6626.0, 6666.0, 5391.0, 5041.0, 4983.0, 5359.0, 5871.0, 10493.0, 4970.0, 5026.0, 11973.0, 4945.0, 5162.0, 4892.0, 6291.0, 5027.0, 8551.0, 5731.0, 7694.0, 5839.0, 5217.0, 5459.0, 7221.0, 6846.0, 5229.0, 5899.0, 7443.0, 5840.0, 7211.0, 5546.0, 5272.0, 7429.0, 7180.0, 6664.0, 8721.0, 5127.0, 6161.0, 6897.0, 9842.0, 6270.0, 7030.0, 7096.0, 10475.0, 5349.0, 7307.0, 9135.0, 4956.0, 7270.0, 7450.0, 4876.0, 7087.0, 9936.0, 6902.0, 8733.0, 4992.0, 5005.0, 7282.0, 5105.0, 6214.0, 7158.0, 9873.0, 6187.0, 6700.0, 12873.0, 5495.0, 5175.0, 5666.0, 11956.0, 6301.0, 4893.0, 7009.0, 6241.0, 5696.0, 6242.0, 5558.0, 6437.0, 5534.0, 6370.0, 7132.0, 5561.0, 5466.0, 5034.0, 5723.0, 7679.0, 5087.0, 12427.0, 6532.0, 5372.0, 6420.0, 5807.0, 6068.0, 4885.0, 5935.0, 6544.0, 4951.0, 6000.0, 8361.0, 8652.0, 7608.0, 8656.0, 6578.0, 6912.0, 10329.0, 5692.0, 5656.0, 6002.0, 5634.0, 7463.0, 7919.0, 11272.0, 5982.0, 6012.0, 4907.0, 7249.0, 12153.0, 6837.0, 5826.0, 7984.0, 6330.0, 5674.0, 5633.0, 7653.0, 6693.0, 28566.0, 6071.0, 6034.0, 6047.0, 5124.0, 7817.0, 5022.0, 8190.0, 8793.0, 6234.0, 7517.0, 12203.0, 9879.0, 5613.0, 6657.0, 8117.0, 8012.0, 6075.0, 5781.0, 5436.0, 5019.0, 7205.0, 5613.0, 7604.0, 4985.0, 8276.0, 7174.0, 6456.0, 7025.0, 5008.0, 7427.0, 7266.0, 6511.0, 6266.0, 5467.0, 5130.0, 6160.0, 5023.0, 5917.0, 5162.0, 5600.0]\n",
            "Outliers in households:  [1807.0, 1845.0, 1926.0, 1820.0, 2095.0, 1734.0, 1697.0, 1955.0, 2117.0, 2533.0, 2418.0, 1949.0, 2333.0, 2905.0, 1777.0, 2683.0, 1689.0, 2106.0, 3232.0, 1923.0, 3176.0, 2789.0, 1804.0, 1838.0, 1957.0, 1698.0, 2267.0, 2895.0, 2407.0, 1856.0, 2424.0, 2358.0, 4339.0, 1696.0, 2716.0, 1827.0, 1920.0, 2441.0, 2812.0, 2342.0, 2324.0, 2688.0, 1661.0, 2437.0, 1911.0, 1986.0, 2180.0, 1729.0, 3361.0, 3510.0, 2723.0, 2426.0, 2612.0, 1789.0, 3441.0, 2060.0, 1858.0, 2299.0, 4616.0, 2081.0, 2285.0, 1749.0, 1705.0, 1909.0, 4769.0, 2245.0, 1759.0, 1717.0, 1855.0, 2094.0, 2086.0, 2463.0, 2473.0, 2553.0, 3744.0, 2410.0, 3832.0, 1668.0, 1863.0, 1929.0, 1922.0, 2312.0, 1859.0, 2199.0, 2023.0, 5189.0, 2036.0, 3258.0, 2156.0, 1781.0, 5050.0, 2777.0, 2397.0, 1923.0, 2676.0, 2890.0, 1666.0, 2666.0, 4072.0, 3061.0, 1831.0, 2081.0, 2497.0, 1707.0, 2159.0, 1691.0, 2116.0, 2714.0, 1907.0, 2552.0, 2731.0, 1790.0, 3671.0, 3933.0, 1712.0, 1879.0, 2565.0, 2654.0, 1808.0, 1692.0, 1806.0, 1772.0, 2017.0, 2902.0, 2156.0, 1872.0, 1874.0, 2769.0, 2406.0, 2374.0, 1674.0, 2028.0, 1822.0, 1924.0, 3028.0, 1745.0, 2523.0, 3405.0, 1755.0, 2270.0, 2041.0, 3522.0, 2838.0, 1944.0, 2803.0, 1790.0, 1755.0, 2274.0, 1920.0, 2839.0, 1845.0, 2144.0, 1899.0, 1752.0, 2492.0, 3886.0, 1815.0, 3595.0, 2440.0, 2038.0, 1922.0, 4490.0, 2660.0, 1844.0, 2003.0, 2452.0, 1747.0, 1698.0, 1809.0, 2320.0, 1979.0, 4204.0, 1894.0, 1697.0, 1823.0, 2169.0, 3790.0, 1724.0, 2707.0, 1773.0, 1699.0, 2225.0, 2447.0, 2194.0, 2387.0, 3302.0, 2118.0, 2311.0, 4012.0, 2207.0, 2080.0, 3931.0, 2152.0, 1661.0, 1671.0, 2173.0, 3478.0, 2829.0, 2552.0, 1906.0, 1953.0, 1797.0, 2100.0, 1718.0, 1693.0, 2251.0, 1778.0, 2209.0, 1715.0, 2826.0, 1843.0, 2289.0, 1853.0, 1722.0, 2435.0, 1673.0, 2359.0, 1710.0, 2250.0, 1712.0, 3112.0, 2873.0, 2832.0, 3234.0, 2140.0, 1818.0, 3086.0, 3073.0, 1740.0, 1882.0, 1752.0, 1694.0, 2329.0, 2885.0, 3329.0, 2528.0, 1919.0, 2375.0, 1882.0, 4372.0, 2358.0, 2125.0, 2962.0, 1832.0, 1816.0, 2138.0, 2359.0, 2232.0, 6082.0, 1889.0, 1775.0, 1853.0, 1950.0, 2515.0, 1667.0, 2086.0, 3262.0, 3701.0, 2152.0, 2579.0, 1753.0, 1772.0, 1749.0, 2206.0, 1903.0, 1874.0, 2847.0, 1837.0, 2606.0, 2412.0, 1797.0, 2007.0, 2753.0, 1789.0, 1946.0, 1763.0, 3589.0, 1967.0, 2742.0, 2147.0, 2168.0, 1743.0, 2718.0, 1661.0, 1742.0, 1789.0, 2323.0, 2338.0, 2051.0, 2267.0, 2952.0, 2119.0, 2538.0, 1717.0, 2428.0, 1989.0, 2082.0, 1683.0, 1812.0, 1880.0, 2060.0, 2200.0]\n",
            "Outliers in median_income:  [10.2948, 10.6186, 10.3354, 10.8634, 11.0911, 10.156, 11.1118, 15.0001, 10.0707, 12.4429, 10.7751, 10.1768, 10.7721, 11.3074, 12.5381, 10.9704, 11.0567, 10.0765, 10.1531, 10.49, 13.0502, 9.6986, 14.9009, 10.1122, 10.4415, 13.1477, 10.3983, 9.8321, 10.1316, 10.4498, 10.6349, 9.8074, 11.0124, 10.1714, 11.4537, 11.0546, 13.466, 11.1228, 11.1121, 12.2092, 10.0757, 12.3411, 11.0138, 10.9601, 10.1299, 9.9055, 9.8589, 11.1077, 10.3893, 10.1989, 10.1248, 10.2849, 10.8289, 9.802, 15.0001, 10.1275, 13.1107, 10.1454, 13.1738, 11.075, 11.216, 9.7066, 10.3682, 10.3048, 9.9071, 9.7956, 10.2252, 10.8034, 10.4835, 11.5199, 9.8098, 15.0001, 10.1154, 10.5424, 9.8177, 15.0001, 9.8346, 10.2289, 12.4237, 11.6471, 11.5609, 11.706, 15.0001, 10.2317, 10.7397, 11.7894, 15.0001, 9.8413, 15.0001, 12.1579, 10.2264, 12.9591, 11.2185, 15.0001, 11.6677, 10.1357, 15.0001, 15.0001, 15.0001, 10.3661, 10.586, 15.0001, 10.0973, 10.1241, 11.615, 10.1447, 10.5045, 9.821, 15.0001, 10.0285, 10.5575, 15.0001, 15.0001, 15.0001, 15.0001, 10.4519, 12.9758, 15.0001, 11.1768, 10.9805, 10.06, 9.8091, 12.7823, 15.0001, 15.0001, 10.8045, 11.2093, 10.9237, 12.7296, 15.0001, 10.3467, 15.0001, 11.6648, 11.8442, 11.9993, 10.0, 10.5536, 10.3599, 12.8665, 10.7937, 12.0088, 10.3587, 10.6796, 11.2979, 13.2935, 13.5728, 15.0001, 13.8556, 15.0001, 13.3036, 13.4196, 15.0001, 12.8879, 13.947, 10.1882, 13.6842, 10.8082, 10.8805, 10.9052, 11.4233, 10.4399, 10.9201, 11.2866, 10.5511, 9.6465, 10.076, 12.542, 10.0472, 9.7646, 10.1597, 10.2614, 10.0595, 10.5941, 10.0263, 12.632, 9.7821, 9.6885, 10.5144, 10.9891, 10.2264, 10.0088, 15.0001, 10.1854, 12.3292, 10.3203, 15.0001, 10.9506, 13.2949, 9.7194, 12.5915, 10.3345, 10.5815, 14.4113, 10.0187, 12.2478, 9.7037, 15.0001, 13.4883, 15.0, 10.7582, 11.2463, 10.675, 10.2311, 10.3979, 10.2666, 10.6834, 10.3653, 9.8937, 12.2145, 11.1557, 10.7326, 10.0346, 9.8144, 11.7064, 11.3421, 10.3591, 12.367, 10.5142, 11.3283, 10.0259, 10.3329, 13.1867, 13.8093, 10.4549, 10.3894, 10.3713, 12.0372, 15.0001, 12.5902, 10.4277, 12.1387, 10.9508, 10.3942, 12.9792, 11.0492, 10.9405, 13.367, 15.0001, 10.7237, 11.6017, 10.3416, 9.9025, 9.8892, 15.0001, 10.0481, 13.2986, 10.8758, 15.0001, 9.7796, 11.9666, 11.3176, 13.499, 11.8603, 15.0001, 15.0001, 12.3804, 12.2138, 10.6514, 15.0001, 10.6868, 10.0743, 13.3913, 10.4286, 14.4219, 10.7339, 15.0001, 10.1675, 12.4291, 11.6833, 15.0001, 10.8783, 10.0791, 10.0914, 12.0933, 14.2959, 10.7569, 10.959, 10.7309, 10.6605, 12.5, 12.2547, 10.7058, 15.0001, 14.5833, 10.129, 10.6272]\n",
            "Outliers in median_house_value:  []\n",
            "Data preprocessing completed and saved as 'processed_dataset.csv'\n"
          ]
        }
      ]
    },
    {
      "cell_type": "code",
      "source": [
        "import pandas as pd\n",
        "import numpy as np\n",
        "from sklearn.impute import SimpleImputer\n",
        "from sklearn.preprocessing import OrdinalEncoder, OneHotEncoder, MinMaxScaler, StandardScaler\n",
        "import matplotlib.pyplot as plt\n",
        "\n",
        "# Load dataset (update the file path accordingly)\n",
        "file_path = input(\"Enter the dataset file path: \")\n",
        "df = pd.read_csv(file_path)\n",
        "\n",
        "# 1. Data Cleaning\n",
        "print(\"Checking for missing values:\\n\", df.isnull().sum())\n",
        "\n",
        "# Handling missing values\n",
        "imputer_mean = SimpleImputer(strategy=\"mean\")\n",
        "imputer_median = SimpleImputer(strategy=\"median\")\n",
        "imputer_mode = SimpleImputer(strategy=\"most_frequent\")\n",
        "\n",
        "# Impute missing values and update the DataFrame\n",
        "df[df.select_dtypes(include=[np.number]).columns] = imputer_mean.fit_transform(df.select_dtypes(include=[np.number])) # Correctly assign the imputed values back to the DataFrame\n",
        "\n",
        "\n",
        "# 2. Handling Categorical Data\n",
        "cat_columns = df.select_dtypes(include=['object']).columns\n",
        "ordinal_encoder = OrdinalEncoder()\n",
        "onehot_encoder = OneHotEncoder(sparse_output=False, handle_unknown='ignore')\n",
        "\n",
        "if len(cat_columns) > 0:\n",
        "    df[cat_columns] = ordinal_encoder.fit_transform(df[cat_columns])\n",
        "    onehot_encoded = onehot_encoder.fit_transform(df[cat_columns])\n",
        "    onehot_df = pd.DataFrame(onehot_encoded, columns=onehot_encoder.get_feature_names_out(cat_columns))\n",
        "    df = df.drop(columns=cat_columns)\n",
        "    df = pd.concat([df, onehot_df], axis=1)\n",
        "\n",
        "# 3. Detecting Outliers\n",
        "# Boxplot\n",
        "plt.boxplot(df.select_dtypes(include=[np.number]), vert=False)\n",
        "plt.title(\"Boxplot for Outlier Detection\")\n",
        "plt.show()\n",
        "\n",
        "# Z-score method\n",
        "outliers = []\n",
        "def detect_outliers_zscore(data):\n",
        "    thres = 3\n",
        "    mean = np.mean(data)\n",
        "    std = np.std(data)\n",
        "    return [i for i in data if abs((i - mean) / std) > thres]\n",
        "\n",
        "for col in df.select_dtypes(include=[np.number]):\n",
        "    print(f\"Outliers in {col}: \", detect_outliers_zscore(df[col]))\n",
        "\n",
        "# 4. Feature Scaling\n",
        "scaler_minmax = MinMaxScaler()\n",
        "scaler_standard = StandardScaler()\n",
        "\n",
        "df[df.select_dtypes(include=[np.number]).columns] = scaler_standard.fit_transform(df.select_dtypes(include=[np.number]))\n",
        "\n",
        "print(\"Data after scaling:\", df.head())\n",
        "\n",
        "# 5. Save Processed Data\n",
        "df.to_csv(\"processed_dataset.csv\", index=False)\n",
        "print(\"Data preprocessing completed and saved as 'processed_dataset.csv'\")\n"
      ],
      "metadata": {
        "colab": {
          "base_uri": "https://localhost:8080/",
          "height": 1080
        },
        "id": "fWsEv3h2bqvm",
        "outputId": "9d3008fe-c659-4653-e5ad-4006f711c3bc"
      },
      "execution_count": 8,
      "outputs": [
        {
          "output_type": "stream",
          "name": "stdout",
          "text": [
            "Enter the dataset file path: /content/sample_data/california_housing_train.csv\n",
            "Checking for missing values:\n",
            " longitude             0\n",
            "latitude              0\n",
            "housing_median_age    0\n",
            "total_rooms           0\n",
            "total_bedrooms        0\n",
            "population            0\n",
            "households            0\n",
            "median_income         0\n",
            "median_house_value    0\n",
            "dtype: int64\n"
          ]
        },
        {
          "output_type": "display_data",
          "data": {
            "text/plain": [
              "<Figure size 640x480 with 1 Axes>"
            ],
            "image/png": "[encoded data removed]"
          },
          "metadata": {}
        },
        {
          "output_type": "stream",
          "name": "stdout",
          "text": [
            "Outliers in longitude:  []\n",
            "Outliers in latitude:  []\n",
            "Outliers in housing_median_age:  []\n",
            "Outliers in total_rooms:  [10377.0, 9444.0, 12991.0, 19107.0, 12327.0, 12557.0, 17579.0, 11836.0, 12509.0, 11115.0, 11659.0, 16921.0, 10105.0, 9425.0, 10227.0, 10077.0, 9374.0, 9975.0, 12480.0, 10886.0, 12342.0, 13559.0, 14934.0, 10997.0, 12517.0, 11391.0, 9724.0, 16450.0, 10352.0, 9601.0, 16148.0, 10968.0, 11544.0, 15401.0, 9992.0, 13814.0, 9518.0, 9911.0, 17466.0, 14944.0, 13703.0, 10665.0, 15502.0, 30401.0, 9302.0, 15029.0, 9285.0, 20391.0, 15695.0, 19001.0, 21060.0, 9419.0, 10394.0, 18356.0, 10002.0, 12526.0, 16884.0, 9911.0, 13195.0, 11775.0, 13724.0, 13096.0, 9812.0, 9859.0, 26322.0, 20908.0, 18767.0, 16010.0, 14960.0, 20944.0, 13245.0, 12837.0, 10923.0, 11827.0, 17286.0, 11810.0, 9269.0, 16533.0, 9286.0, 10804.0, 10145.0, 12156.0, 11587.0, 10072.0, 25135.0, 14281.0, 9966.0, 9759.0, 12870.0, 10565.0, 12106.0, 10395.0, 10235.0, 11965.0, 13562.0, 17978.0, 17577.0, 11818.0, 16431.0, 9467.0, 20263.0, 10223.0, 15809.0, 18956.0, 13556.0, 10534.0, 10175.0, 10008.0, 9653.0, 17715.0, 11250.0, 10856.0, 13290.0, 9755.0, 37937.0, 22128.0, 16759.0, 9662.0, 10263.0, 32054.0, 9729.0, 9792.0, 18690.0, 10484.0, 10535.0, 18448.0, 9197.0, 11026.0, 9446.0, 17527.0, 21533.0, 10281.0, 9255.0, 17820.0, 27700.0, 19059.0, 9565.0, 11989.0, 14058.0, 9893.0, 9947.0, 16414.0, 9610.0, 16042.0, 10621.0, 10655.0, 9849.0, 12139.0, 10264.0, 23386.0, 9761.0, 10356.0, 20377.0, 9882.0, 10239.0, 12317.0, 11008.0, 11275.0, 10626.0, 14348.0, 14556.0, 9944.0, 9659.0, 10731.0, 13038.0, 9975.0, 11016.0, 9259.0, 13133.0, 11016.0, 17339.0, 9528.0, 11308.0, 10445.0, 11353.0, 9728.0, 17591.0, 21113.0, 10806.0, 14891.0, 13406.0, 25957.0, 9902.0, 9430.0, 9320.0, 10267.0, 11154.0, 15341.0, 17377.0, 15348.0, 21086.0, 17313.0, 9657.0, 9716.0, 11853.0, 9512.0, 14912.0, 10860.0, 9664.0, 16544.0, 14275.0, 23866.0, 16704.0, 16222.0, 30405.0, 15572.0, 11668.0, 15990.0, 25187.0, 10018.0, 15207.0, 10618.0, 9807.0, 12707.0, 10822.0, 9351.0, 11609.0, 9503.0, 9280.0, 15201.0, 11403.0, 10425.0, 10862.0, 10098.0, 13670.0, 10463.0, 17738.0, 9613.0, 9885.0, 13315.0, 9601.0, 9374.0, 12360.0, 12259.0, 11442.0, 9205.0, 13553.0, 9534.0, 13796.0, 9774.0, 20214.0, 21897.0, 14414.0, 16239.0, 14418.0, 10035.0, 20982.0, 12355.0, 10211.0, 10505.0, 12197.0, 15309.0, 16679.0, 9483.0, 9899.0, 10613.0, 9371.0, 19234.0, 9217.0, 12139.0, 12070.0, 15018.0, 10236.0, 10509.0, 17032.0, 14701.0, 32627.0, 9831.0, 11181.0, 13182.0, 12980.0, 9621.0, 10053.0, 14631.0, 11444.0, 9540.0, 28258.0, 10869.0, 11336.0, 14652.0, 10687.0, 9789.0, 11768.0, 10093.0, 16199.0, 14917.0, 12713.0, 10648.0, 14316.0, 14014.0, 10191.0, 9576.0, 9963.0, 11294.0, 11709.0, 12842.0, 18392.0, 14125.0, 15654.0, 18634.0, 15259.0, 13714.0, 14034.0, 10252.0, 11999.0, 12902.0, 10774.0, 9493.0, 9614.0, 9531.0, 11872.0, 10839.0, 9772.0]\n",
            "Outliers in total_bedrooms:  [1901.0, 2331.0, 1997.0, 2224.0, 2555.0, 3923.0, 2000.0, 3098.0, 1859.0, 3479.0, 2405.0, 2460.0, 2257.0, 2007.0, 2837.0, 2481.0, 2020.0, 1875.0, 1882.0, 2634.0, 2315.0, 2186.0, 1839.0, 1946.0, 1985.0, 2127.0, 2630.0, 2292.0, 2656.0, 2479.0, 2205.0, 2506.0, 3093.0, 2833.0, 2007.0, 2401.0, 3474.0, 1979.0, 3280.0, 2888.0, 1881.0, 2035.0, 2114.0, 1866.0, 2628.0, 3336.0, 2490.0, 2352.0, 2576.0, 2613.0, 4957.0, 1816.0, 2279.0, 3245.0, 1952.0, 2248.0, 2688.0, 3366.0, 2537.0, 2495.0, 2865.0, 1946.0, 2696.0, 2031.0, 2269.0, 2208.0, 1914.0, 4072.0, 3933.0, 3032.0, 2726.0, 2988.0, 2111.0, 3753.0, 2212.0, 1842.0, 2041.0, 2445.0, 4952.0, 2181.0, 2549.0, 1832.0, 2306.0, 1864.0, 2043.0, 4819.0, 2511.0, 1816.0, 2315.0, 1913.0, 2238.0, 2057.0, 3217.0, 2819.0, 2640.0, 3915.0, 2485.0, 4095.0, 2035.0, 2181.0, 2000.0, 2370.0, 1893.0, 2278.0, 2062.0, 5471.0, 2174.0, 3522.0, 2274.0, 1864.0, 5290.0, 2862.0, 2474.0, 1978.0, 2751.0, 3078.0, 2812.0, 4179.0, 3079.0, 2289.0, 2185.0, 2486.0, 2283.0, 2276.0, 2919.0, 2005.0, 2602.0, 2873.0, 1821.0, 4171.0, 4335.0, 1847.0, 1960.0, 1892.0, 2823.0, 2953.0, 1877.0, 1822.0, 2145.0, 1856.0, 1944.0, 2077.0, 3179.0, 2293.0, 1997.0, 1980.0, 2961.0, 2610.0, 2530.0, 2158.0, 2055.0, 1985.0, 3335.0, 1984.0, 2679.0, 3638.0, 2793.0, 2154.0, 3680.0, 3170.0, 2022.0, 2866.0, 2007.0, 1827.0, 2437.0, 2075.0, 3039.0, 1978.0, 2331.0, 2211.0, 1866.0, 2604.0, 4386.0, 1963.0, 3984.0, 2574.0, 2193.0, 2038.0, 4798.0, 2814.0, 1820.0, 2138.0, 2473.0, 2717.0, 1872.0, 1995.0, 2527.0, 2139.0, 4457.0, 1976.0, 1826.0, 1994.0, 2366.0, 3945.0, 1858.0, 3224.0, 1849.0, 1869.0, 2387.0, 2691.0, 2355.0, 2560.0, 4183.0, 2206.0, 2474.0, 4407.0, 2704.0, 2309.0, 4093.0, 2222.0, 1827.0, 2611.0, 3521.0, 2924.0, 2685.0, 1994.0, 2139.0, 1901.0, 2141.0, 2418.0, 2131.0, 2121.0, 2401.0, 2453.0, 1831.0, 3114.0, 1871.0, 2424.0, 1906.0, 1847.0, 2690.0, 2474.0, 1819.0, 2372.0, 3559.0, 3513.0, 2979.0, 3358.0, 2282.0, 1856.0, 3392.0, 3630.0, 1882.0, 1992.0, 1995.0, 2617.0, 2996.0, 3457.0, 1913.0, 2617.0, 2011.0, 2485.0, 1980.0, 4492.0, 2640.0, 2220.0, 3008.0, 1857.0, 1878.0, 2186.0, 2546.0, 2210.0, 6445.0, 1957.0, 1921.0, 1895.0, 2074.0, 2568.0, 2124.0, 3298.0, 3864.0, 2226.0, 2826.0, 1847.0, 1823.0, 2166.0, 2552.0, 2098.0, 1893.0, 2993.0, 1910.0, 2708.0, 2558.0, 1818.0, 2045.0, 2861.0, 1882.0, 2031.0, 2009.0, 3618.0, 2048.0, 2782.0, 2344.0, 2394.0, 1943.0, 2885.0, 1914.0, 2477.0, 2275.0, 2408.0, 2302.0, 3020.0, 2509.0, 2747.0, 1812.0, 2595.0, 2249.0, 2118.0, 1902.0, 1935.0, 2123.0, 2300.0]\n",
            "Outliers in population:  [5032.0, 5525.0, 6274.0, 6835.0, 5102.0, 5030.0, 6990.0, 6945.0, 5060.0, 6389.0, 7178.0, 5247.0, 7985.0, 5176.0, 6159.0, 6296.0, 7302.0, 6583.0, 5094.0, 5370.0, 7014.0, 7644.0, 6600.0, 4917.0, 7417.0, 13251.0, 5613.0, 7132.0, 5006.0, 6080.0, 5410.0, 8980.0, 9623.0, 5146.0, 8437.0, 5439.0, 6133.0, 9509.0, 5155.0, 5145.0, 6763.0, 6686.0, 5860.0, 6780.0, 5595.0, 4885.0, 9360.0, 9690.0, 5650.0, 8805.0, 7139.0, 6666.0, 8738.0, 5495.0, 6640.0, 9851.0, 6716.0, 4916.0, 7588.0, 6852.0, 5221.0, 5020.0, 5804.0, 5913.0, 35682.0, 7540.0, 5008.0, 5820.0, 5690.0, 5810.0, 6295.0, 5271.0, 7600.0, 7305.0, 7766.0, 4976.0, 5499.0, 8222.0, 9716.0, 5205.0, 7363.0, 10323.0, 5669.0, 5110.0, 5718.0, 7665.0, 4952.0, 6474.0, 6931.0, 16122.0, 10450.0, 7249.0, 6163.0, 15507.0, 9427.0, 7775.0, 5407.0, 4911.0, 8380.0, 9671.0, 4926.0, 6083.0, 4944.0, 5756.0, 8686.0, 15037.0, 10988.0, 5477.0, 5085.0, 6652.0, 8997.0, 5325.0, 7228.0, 5516.0, 5116.0, 5278.0, 5587.0, 5254.0, 5014.0, 8907.0, 7732.0, 6626.0, 6666.0, 5391.0, 5041.0, 4983.0, 5359.0, 5871.0, 10493.0, 4970.0, 5026.0, 11973.0, 4945.0, 5162.0, 4892.0, 6291.0, 5027.0, 8551.0, 5731.0, 7694.0, 5839.0, 5217.0, 5459.0, 7221.0, 6846.0, 5229.0, 5899.0, 7443.0, 5840.0, 7211.0, 5546.0, 5272.0, 7429.0, 7180.0, 6664.0, 8721.0, 5127.0, 6161.0, 6897.0, 9842.0, 6270.0, 7030.0, 7096.0, 10475.0, 5349.0, 7307.0, 9135.0, 4956.0, 7270.0, 7450.0, 4876.0, 7087.0, 9936.0, 6902.0, 8733.0, 4992.0, 5005.0, 7282.0, 5105.0, 6214.0, 7158.0, 9873.0, 6187.0, 6700.0, 12873.0, 5495.0, 5175.0, 5666.0, 11956.0, 6301.0, 4893.0, 7009.0, 6241.0, 5696.0, 6242.0, 5558.0, 6437.0, 5534.0, 6370.0, 7132.0, 5561.0, 5466.0, 5034.0, 5723.0, 7679.0, 5087.0, 12427.0, 6532.0, 5372.0, 6420.0, 5807.0, 6068.0, 4885.0, 5935.0, 6544.0, 4951.0, 6000.0, 8361.0, 8652.0, 7608.0, 8656.0, 6578.0, 6912.0, 10329.0, 5692.0, 5656.0, 6002.0, 5634.0, 7463.0, 7919.0, 11272.0, 5982.0, 6012.0, 4907.0, 7249.0, 12153.0, 6837.0, 5826.0, 7984.0, 6330.0, 5674.0, 5633.0, 7653.0, 6693.0, 28566.0, 6071.0, 6034.0, 6047.0, 5124.0, 7817.0, 5022.0, 8190.0, 8793.0, 6234.0, 7517.0, 12203.0, 9879.0, 5613.0, 6657.0, 8117.0, 8012.0, 6075.0, 5781.0, 5436.0, 5019.0, 7205.0, 5613.0, 7604.0, 4985.0, 8276.0, 7174.0, 6456.0, 7025.0, 5008.0, 7427.0, 7266.0, 6511.0, 6266.0, 5467.0, 5130.0, 6160.0, 5023.0, 5917.0, 5162.0, 5600.0]\n",
            "Outliers in households:  [1807.0, 1845.0, 1926.0, 1820.0, 2095.0, 1734.0, 1697.0, 1955.0, 2117.0, 2533.0, 2418.0, 1949.0, 2333.0, 2905.0, 1777.0, 2683.0, 1689.0, 2106.0, 3232.0, 1923.0, 3176.0, 2789.0, 1804.0, 1838.0, 1957.0, 1698.0, 2267.0, 2895.0, 2407.0, 1856.0, 2424.0, 2358.0, 4339.0, 1696.0, 2716.0, 1827.0, 1920.0, 2441.0, 2812.0, 2342.0, 2324.0, 2688.0, 1661.0, 2437.0, 1911.0, 1986.0, 2180.0, 1729.0, 3361.0, 3510.0, 2723.0, 2426.0, 2612.0, 1789.0, 3441.0, 2060.0, 1858.0, 2299.0, 4616.0, 2081.0, 2285.0, 1749.0, 1705.0, 1909.0, 4769.0, 2245.0, 1759.0, 1717.0, 1855.0, 2094.0, 2086.0, 2463.0, 2473.0, 2553.0, 3744.0, 2410.0, 3832.0, 1668.0, 1863.0, 1929.0, 1922.0, 2312.0, 1859.0, 2199.0, 2023.0, 5189.0, 2036.0, 3258.0, 2156.0, 1781.0, 5050.0, 2777.0, 2397.0, 1923.0, 2676.0, 2890.0, 1666.0, 2666.0, 4072.0, 3061.0, 1831.0, 2081.0, 2497.0, 1707.0, 2159.0, 1691.0, 2116.0, 2714.0, 1907.0, 2552.0, 2731.0, 1790.0, 3671.0, 3933.0, 1712.0, 1879.0, 2565.0, 2654.0, 1808.0, 1692.0, 1806.0, 1772.0, 2017.0, 2902.0, 2156.0, 1872.0, 1874.0, 2769.0, 2406.0, 2374.0, 1674.0, 2028.0, 1822.0, 1924.0, 3028.0, 1745.0, 2523.0, 3405.0, 1755.0, 2270.0, 2041.0, 3522.0, 2838.0, 1944.0, 2803.0, 1790.0, 1755.0, 2274.0, 1920.0, 2839.0, 1845.0, 2144.0, 1899.0, 1752.0, 2492.0, 3886.0, 1815.0, 3595.0, 2440.0, 2038.0, 1922.0, 4490.0, 2660.0, 1844.0, 2003.0, 2452.0, 1747.0, 1698.0, 1809.0, 2320.0, 1979.0, 4204.0, 1894.0, 1697.0, 1823.0, 2169.0, 3790.0, 1724.0, 2707.0, 1773.0, 1699.0, 2225.0, 2447.0, 2194.0, 2387.0, 3302.0, 2118.0, 2311.0, 4012.0, 2207.0, 2080.0, 3931.0, 2152.0, 1661.0, 1671.0, 2173.0, 3478.0, 2829.0, 2552.0, 1906.0, 1953.0, 1797.0, 2100.0, 1718.0, 1693.0, 2251.0, 1778.0, 2209.0, 1715.0, 2826.0, 1843.0, 2289.0, 1853.0, 1722.0, 2435.0, 1673.0, 2359.0, 1710.0, 2250.0, 1712.0, 3112.0, 2873.0, 2832.0, 3234.0, 2140.0, 1818.0, 3086.0, 3073.0, 1740.0, 1882.0, 1752.0, 1694.0, 2329.0, 2885.0, 3329.0, 2528.0, 1919.0, 2375.0, 1882.0, 4372.0, 2358.0, 2125.0, 2962.0, 1832.0, 1816.0, 2138.0, 2359.0, 2232.0, 6082.0, 1889.0, 1775.0, 1853.0, 1950.0, 2515.0, 1667.0, 2086.0, 3262.0, 3701.0, 2152.0, 2579.0, 1753.0, 1772.0, 1749.0, 2206.0, 1903.0, 1874.0, 2847.0, 1837.0, 2606.0, 2412.0, 1797.0, 2007.0, 2753.0, 1789.0, 1946.0, 1763.0, 3589.0, 1967.0, 2742.0, 2147.0, 2168.0, 1743.0, 2718.0, 1661.0, 1742.0, 1789.0, 2323.0, 2338.0, 2051.0, 2267.0, 2952.0, 2119.0, 2538.0, 1717.0, 2428.0, 1989.0, 2082.0, 1683.0, 1812.0, 1880.0, 2060.0, 2200.0]\n",
            "Outliers in median_income:  [10.2948, 10.6186, 10.3354, 10.8634, 11.0911, 10.156, 11.1118, 15.0001, 10.0707, 12.4429, 10.7751, 10.1768, 10.7721, 11.3074, 12.5381, 10.9704, 11.0567, 10.0765, 10.1531, 10.49, 13.0502, 9.6986, 14.9009, 10.1122, 10.4415, 13.1477, 10.3983, 9.8321, 10.1316, 10.4498, 10.6349, 9.8074, 11.0124, 10.1714, 11.4537, 11.0546, 13.466, 11.1228, 11.1121, 12.2092, 10.0757, 12.3411, 11.0138, 10.9601, 10.1299, 9.9055, 9.8589, 11.1077, 10.3893, 10.1989, 10.1248, 10.2849, 10.8289, 9.802, 15.0001, 10.1275, 13.1107, 10.1454, 13.1738, 11.075, 11.216, 9.7066, 10.3682, 10.3048, 9.9071, 9.7956, 10.2252, 10.8034, 10.4835, 11.5199, 9.8098, 15.0001, 10.1154, 10.5424, 9.8177, 15.0001, 9.8346, 10.2289, 12.4237, 11.6471, 11.5609, 11.706, 15.0001, 10.2317, 10.7397, 11.7894, 15.0001, 9.8413, 15.0001, 12.1579, 10.2264, 12.9591, 11.2185, 15.0001, 11.6677, 10.1357, 15.0001, 15.0001, 15.0001, 10.3661, 10.586, 15.0001, 10.0973, 10.1241, 11.615, 10.1447, 10.5045, 9.821, 15.0001, 10.0285, 10.5575, 15.0001, 15.0001, 15.0001, 15.0001, 10.4519, 12.9758, 15.0001, 11.1768, 10.9805, 10.06, 9.8091, 12.7823, 15.0001, 15.0001, 10.8045, 11.2093, 10.9237, 12.7296, 15.0001, 10.3467, 15.0001, 11.6648, 11.8442, 11.9993, 10.0, 10.5536, 10.3599, 12.8665, 10.7937, 12.0088, 10.3587, 10.6796, 11.2979, 13.2935, 13.5728, 15.0001, 13.8556, 15.0001, 13.3036, 13.4196, 15.0001, 12.8879, 13.947, 10.1882, 13.6842, 10.8082, 10.8805, 10.9052, 11.4233, 10.4399, 10.9201, 11.2866, 10.5511, 9.6465, 10.076, 12.542, 10.0472, 9.7646, 10.1597, 10.2614, 10.0595, 10.5941, 10.0263, 12.632, 9.7821, 9.6885, 10.5144, 10.9891, 10.2264, 10.0088, 15.0001, 10.1854, 12.3292, 10.3203, 15.0001, 10.9506, 13.2949, 9.7194, 12.5915, 10.3345, 10.5815, 14.4113, 10.0187, 12.2478, 9.7037, 15.0001, 13.4883, 15.0, 10.7582, 11.2463, 10.675, 10.2311, 10.3979, 10.2666, 10.6834, 10.3653, 9.8937, 12.2145, 11.1557, 10.7326, 10.0346, 9.8144, 11.7064, 11.3421, 10.3591, 12.367, 10.5142, 11.3283, 10.0259, 10.3329, 13.1867, 13.8093, 10.4549, 10.3894, 10.3713, 12.0372, 15.0001, 12.5902, 10.4277, 12.1387, 10.9508, 10.3942, 12.9792, 11.0492, 10.9405, 13.367, 15.0001, 10.7237, 11.6017, 10.3416, 9.9025, 9.8892, 15.0001, 10.0481, 13.2986, 10.8758, 15.0001, 9.7796, 11.9666, 11.3176, 13.499, 11.8603, 15.0001, 15.0001, 12.3804, 12.2138, 10.6514, 15.0001, 10.6868, 10.0743, 13.3913, 10.4286, 14.4219, 10.7339, 15.0001, 10.1675, 12.4291, 11.6833, 15.0001, 10.8783, 10.0791, 10.0914, 12.0933, 14.2959, 10.7569, 10.959, 10.7309, 10.6605, 12.5, 12.2547, 10.7058, 15.0001, 14.5833, 10.129, 10.6272]\n",
            "Outliers in median_house_value:  []\n",
            "Data after scaling:    longitude  latitude  housing_median_age  total_rooms  total_bedrooms  \\\n",
            "0   2.619365 -0.671520           -1.079671     1.361695        1.764204   \n",
            "1   2.539569 -0.573264           -0.761872     2.296608        3.230441   \n",
            "2   2.494683 -0.905463           -0.920772    -0.882462       -0.866956   \n",
            "3   2.489696 -0.928857           -1.159121    -0.524186       -0.480230   \n",
            "4   2.489696 -0.961609           -0.682422    -0.545747       -0.506328   \n",
            "\n",
            "   population  households  median_income  median_house_value  \n",
            "0   -0.361184   -0.075998      -1.252543           -1.210558  \n",
            "1   -0.261865   -0.099404      -1.081483           -1.096745  \n",
            "2   -0.955354   -0.999252      -1.170105           -1.048461  \n",
            "3   -0.796793   -0.715774      -0.362600           -1.154514  \n",
            "4   -0.701830   -0.622148      -1.026454           -1.222629  \n",
            "Data preprocessing completed and saved as 'processed_dataset.csv'\n"
          ]
        }
      ]
    }
  ]
}